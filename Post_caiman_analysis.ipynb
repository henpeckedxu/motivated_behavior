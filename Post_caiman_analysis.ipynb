{
 "cells": [
  {
   "cell_type": "markdown",
   "metadata": {},
   "source": [
    "## Object: this script is used to eliminate ROIs out of the margine. "
   ]
  },
  {
   "cell_type": "code",
   "execution_count": 1,
   "metadata": {},
   "outputs": [],
   "source": [
    "import cv2\n",
    "import os,sys\n",
    "import platform as plat\n",
    "import numpy as np\n",
    "import matplotlib.pyplot as plt\n",
    "from scipy import stats\n",
    "import heapq\n",
    "import csv\n",
    "from os import listdir\n",
    "from os.path import isfile, join\n",
    "import seaborn as sns\n",
    "import numpy as np\n",
    "import sklearn.decomposition as DECO\n",
    "from scipy.fftpack import fft, ifft\n",
    "from scipy.ndimage import gaussian_filter\n",
    "import pandas as pd\n",
    "from scipy.signal import find_peaks\n",
    "import  scipy.io as io\n",
    "import h5py\n",
    "import xlrd\n",
    "import xlwt\n",
    "import heapq\n",
    "import maskdb_parsing as maskdb"
   ]
  },
  {
   "cell_type": "code",
   "execution_count": 2,
   "metadata": {},
   "outputs": [],
   "source": [
    "flg_delete_notlow_active_cell_idx = 1\n",
    "\n",
    "# Functions ......................................\n",
    "def categories(x, threshold = .1):\n",
    "    sub_set = []\n",
    "    sd = np.std(x)\n",
    "    md = np.mean(x)\n",
    "    list_inactive = [a for a in x if a < threshold]\n",
    "    return list_inactive\n",
    "\n",
    "class data_input:\n",
    "    def __init__(self, data):\n",
    "        self.df = data['dff']\n",
    "        self.coor = data['coord']\n",
    "        self.activity_lvl = data['coord'][:, 0] * 0\n",
    "        self.ACTIVESNESS = data['coord'][:, 0] * 0\n",
    "\n",
    "def normalized(x):\n",
    "    return (x - min(x)) / (max(x) - min(x))\n",
    "\n",
    "        \n",
    "\n",
    "class data_DF_COOR_MASK:\n",
    "    def __init__(self, dff, coor, mask):\n",
    "        self.df = dff\n",
    "        self.coor = coor\n",
    "        self.masks = mask\n",
    "\n",
    "def anatomical_masking (coor):\n",
    "    mdb = maskdb.mask_db()\n",
    "    coor = coor [:,[2,1,0]]\n",
    "    anatomical_mask = []\n",
    "    for i in range(294):\n",
    "        anatomical_mask_T = mdb.mask_multi_direct_search(i, coor)[0]\n",
    "        for i in range(len(anatomical_mask_T)):\n",
    "            if anatomical_mask_T[i] == False:\n",
    "                anatomical_mask_T[i] = 0\n",
    "            if anatomical_mask_T[i] == True:\n",
    "                anatomical_mask_T[i] = 1\n",
    "        anatomical_mask.append(anatomical_mask_T)\n",
    "    return anatomical_mask\n",
    "\n",
    "def find_index(M, cind):\n",
    "    ind = []\n",
    "    for item in range( len( M)):\n",
    "        if M[item] == cind:\n",
    "            ind.append( item )\n",
    "    return ind       "
   ]
  },
  {
   "cell_type": "code",
   "execution_count": 3,
   "metadata": {},
   "outputs": [
    {
     "data": {
      "text/html": [
       "<div>\n",
       "<style scoped>\n",
       "    .dataframe tbody tr th:only-of-type {\n",
       "        vertical-align: middle;\n",
       "    }\n",
       "\n",
       "    .dataframe tbody tr th {\n",
       "        vertical-align: top;\n",
       "    }\n",
       "\n",
       "    .dataframe thead th {\n",
       "        text-align: right;\n",
       "    }\n",
       "</style>\n",
       "<table border=\"1\" class=\"dataframe\">\n",
       "  <thead>\n",
       "    <tr style=\"text-align: right;\">\n",
       "      <th></th>\n",
       "      <th>Fish_ID</th>\n",
       "      <th>Mean_LDCI</th>\n",
       "      <th>Cat</th>\n",
       "    </tr>\n",
       "    <tr>\n",
       "      <th>Image_ID</th>\n",
       "      <th></th>\n",
       "      <th></th>\n",
       "      <th></th>\n",
       "    </tr>\n",
       "  </thead>\n",
       "  <tbody>\n",
       "    <tr>\n",
       "      <th>Fish06</th>\n",
       "      <td>20220427-Plate1-5C</td>\n",
       "      <td>-0.995255</td>\n",
       "      <td>SDA</td>\n",
       "    </tr>\n",
       "    <tr>\n",
       "      <th>Fish03</th>\n",
       "      <td>20220427-Plate1-5D</td>\n",
       "      <td>-0.988801</td>\n",
       "      <td>SDA</td>\n",
       "    </tr>\n",
       "    <tr>\n",
       "      <th>Fish09</th>\n",
       "      <td>20220427-Plate1-9C</td>\n",
       "      <td>-0.987146</td>\n",
       "      <td>SDA</td>\n",
       "    </tr>\n",
       "    <tr>\n",
       "      <th>Fish11</th>\n",
       "      <td>20220427-Plate1-1B</td>\n",
       "      <td>-0.980678</td>\n",
       "      <td>SDA</td>\n",
       "    </tr>\n",
       "    <tr>\n",
       "      <th>Fish13</th>\n",
       "      <td>20220427-Plate1-6D</td>\n",
       "      <td>-0.979944</td>\n",
       "      <td>SDA</td>\n",
       "    </tr>\n",
       "    <tr>\n",
       "      <th>Fish01</th>\n",
       "      <td>20220427-Plate1-3E</td>\n",
       "      <td>-0.968221</td>\n",
       "      <td>SDA</td>\n",
       "    </tr>\n",
       "    <tr>\n",
       "      <th>Fish12</th>\n",
       "      <td>20220427-Plate1-2G</td>\n",
       "      <td>-0.266682</td>\n",
       "      <td>VDA</td>\n",
       "    </tr>\n",
       "    <tr>\n",
       "      <th>Fish02</th>\n",
       "      <td>20220427-Plate1-10F</td>\n",
       "      <td>-0.203456</td>\n",
       "      <td>VDA</td>\n",
       "    </tr>\n",
       "    <tr>\n",
       "      <th>Fish04</th>\n",
       "      <td>20220427-Plate1-5G</td>\n",
       "      <td>-0.139854</td>\n",
       "      <td>VDA</td>\n",
       "    </tr>\n",
       "    <tr>\n",
       "      <th>Fish05</th>\n",
       "      <td>20220427-Plate1-6B</td>\n",
       "      <td>-0.088155</td>\n",
       "      <td>VDA</td>\n",
       "    </tr>\n",
       "    <tr>\n",
       "      <th>Fish10</th>\n",
       "      <td>20220427-Plate1-8E</td>\n",
       "      <td>-0.069044</td>\n",
       "      <td>VDA</td>\n",
       "    </tr>\n",
       "    <tr>\n",
       "      <th>Fish08</th>\n",
       "      <td>20220427-Plate1-8C</td>\n",
       "      <td>-0.001321</td>\n",
       "      <td>VDA</td>\n",
       "    </tr>\n",
       "  </tbody>\n",
       "</table>\n",
       "</div>"
      ],
      "text/plain": [
       "                      Fish_ID  Mean_LDCI  Cat\n",
       "Image_ID                                     \n",
       "Fish06     20220427-Plate1-5C  -0.995255  SDA\n",
       "Fish03     20220427-Plate1-5D  -0.988801  SDA\n",
       "Fish09     20220427-Plate1-9C  -0.987146  SDA\n",
       "Fish11     20220427-Plate1-1B  -0.980678  SDA\n",
       "Fish13     20220427-Plate1-6D  -0.979944  SDA\n",
       "Fish01     20220427-Plate1-3E  -0.968221  SDA\n",
       "Fish12     20220427-Plate1-2G  -0.266682  VDA\n",
       "Fish02    20220427-Plate1-10F  -0.203456  VDA\n",
       "Fish04     20220427-Plate1-5G  -0.139854  VDA\n",
       "Fish05     20220427-Plate1-6B  -0.088155  VDA\n",
       "Fish10     20220427-Plate1-8E  -0.069044  VDA\n",
       "Fish08     20220427-Plate1-8C  -0.001321  VDA"
      ]
     },
     "execution_count": 3,
     "metadata": {},
     "output_type": "execute_result"
    }
   ],
   "source": [
    "df_behavior = pd.read_excel('/Users/jialexu/Library/CloudStorage/Box-Box/UCSF/Research/Project8LD_NeuralNetwork/experiments/behavior_test/DerivedData/SDA_VDA_selection_20220427.xlsx',\n",
    "                            sheet_name=4, index_col=0)\n",
    "df_behavior"
   ]
  },
  {
   "cell_type": "code",
   "execution_count": 4,
   "metadata": {},
   "outputs": [],
   "source": [
    "FishID='11'\n",
    "wdir = '/Users/jialexu/Library/CloudStorage/Box-Box/UCSF/Research/Project8LD_NeuralNetwork/experiments/caiman/20220427/Fish'+FishID\n",
    "DFF_folder = wdir +'/dff/'\n",
    "results_folder = wdir +'/result/'\n",
    "result_dir = '/Users/jialexu/Library/CloudStorage/Box-Box/UCSF/Research/Project8LD_NeuralNetwork/experiments/caiman/20220427/All_fish/'\n"
   ]
  },
  {
   "cell_type": "markdown",
   "metadata": {},
   "source": [
    "# Loading the data"
   ]
  },
  {
   "cell_type": "code",
   "execution_count": 5,
   "metadata": {},
   "outputs": [],
   "source": [
    "'''\n",
    "Reading DF/F from one file: DFF_folder\n",
    "Reading coordinates from another file:Coord_folder \n",
    " DF/F : all_dta_fsh_dff\n",
    " Coordinate: all_dta_fsh_coor\n",
    "\n",
    "   >>> output: dta_fsh <<<<\n",
    "\n",
    "'''\n",
    "#make a list of file names for df/f files generated from caiman\n",
    "all_input_data_file_dff = []\n",
    "for item in sorted(os.listdir(DFF_folder)):\n",
    "    if not item.startswith('.') and os.path.isfile(os.path.join(DFF_folder, item)):\n",
    "        all_input_data_file_dff.append(item)\n",
    "\n",
    "        "
   ]
  },
  {
   "cell_type": "code",
   "execution_count": 6,
   "metadata": {},
   "outputs": [],
   "source": [
    "# stack all df/f files in one object\n",
    "\n",
    "all_dta_fsh_dff = [np.load(DFF_folder + str(all_input_data_file_dff[file_idx]), allow_pickle=True)\n",
    "               for file_idx in range (len(all_input_data_file_dff))]\n",
    "\n",
    "\n",
    "# combine both file stacks for each fish\n",
    "dta_fsh = []\n",
    "for fil_idx in range(len(all_dta_fsh_dff)):\n",
    "    dta_fsh.append(data_input(all_dta_fsh_dff[fil_idx])) "
   ]
  },
  {
   "cell_type": "markdown",
   "metadata": {},
   "source": [
    "## Marginal cells removal\n"
   ]
  },
  {
   "cell_type": "code",
   "execution_count": 7,
   "metadata": {},
   "outputs": [
    {
     "name": "stdout",
     "output_type": "stream",
     "text": [
      "find ROIs out of margine in 28 zplanes\n"
     ]
    }
   ],
   "source": [
    "# Define the marginal threshold ........................\n",
    "eps_margine_y= 0\n",
    "eps_margine_x= 0\n",
    "\n",
    "# find coordinates of ROIs outside the margine in each zplane\n",
    "marginal_cell_idx = []\n",
    "print (\"find ROIs out of margine in %i zplanes\"%len(all_dta_fsh_dff))\n",
    "for fish_id in range(len(all_dta_fsh_dff)):\n",
    "    \n",
    "    \n",
    "    marginal_idx = []\n",
    "    for m_idx in range(len(dta_fsh[fish_id].coor)):\n",
    "        if dta_fsh[fish_id].coor [m_idx, 1] < 20 + eps_margine_y or \\\n",
    "        dta_fsh[fish_id].coor [m_idx, 1] > 492 - eps_margine_y or\\\n",
    "        dta_fsh[fish_id].coor [m_idx, 0] < 20 + eps_margine_x or \\\n",
    "        dta_fsh[fish_id].coor [m_idx, 0] > 1004 - eps_margine_x:\n",
    "            marginal_idx.append(m_idx)\n",
    "    marginal_cell_idx.append(marginal_idx)\n"
   ]
  },
  {
   "cell_type": "code",
   "execution_count": 8,
   "metadata": {},
   "outputs": [
    {
     "name": "stdout",
     "output_type": "stream",
     "text": [
      "no of ROI in each zplane after margin removal\n",
      "(0, 4690)\n",
      "(1, 8809)\n",
      "(2, 5684)\n",
      "(3, 6837)\n",
      "(4, 5739)\n",
      "(5, 8657)\n",
      "(6, 8698)\n",
      "(7, 9060)\n",
      "(8, 4826)\n",
      "(9, 9068)\n",
      "(10, 9122)\n",
      "(11, 9177)\n",
      "(12, 8795)\n",
      "(13, 9094)\n",
      "(14, 3770)\n",
      "(15, 4177)\n",
      "(16, 4531)\n",
      "(17, 8994)\n",
      "(18, 9085)\n",
      "(19, 9182)\n",
      "(20, 9174)\n",
      "(21, 6705)\n",
      "(22, 4132)\n",
      "(23, 3282)\n",
      "(24, 9000)\n",
      "(25, 2783)\n",
      "(26, 6818)\n",
      "(27, 9072)\n"
     ]
    }
   ],
   "source": [
    "# Deleting marginal cells\n",
    "dta_fsh_org_df = []\n",
    "dta_fsh_org_coor = []\n",
    "\n",
    "for fish_id in range(len(dta_fsh)):\n",
    "    dta_fsh_org_df.append(dta_fsh[fish_id].df)\n",
    "    dta_fsh_org_coor.append(dta_fsh[fish_id].coor)\n",
    "    dta_fsh[fish_id].df = np.delete(dta_fsh[fish_id].df, marginal_cell_idx[fish_id], 0)\n",
    "    dta_fsh[fish_id].coor = np.delete(dta_fsh[fish_id].coor, marginal_cell_idx[fish_id], 0)\n",
    "    dta_fsh[fish_id].activity_lvl = np.delete(dta_fsh[fish_id].activity_lvl, marginal_cell_idx[fish_id], 0)\n",
    "\n",
    "print ('no of ROI in each zplane after margin removal')\n",
    "for stid in range(len(dta_fsh)):\n",
    "    print ((stid, len(dta_fsh[stid].coor)))"
   ]
  },
  {
   "cell_type": "code",
   "execution_count": null,
   "metadata": {},
   "outputs": [],
   "source": [
    "# Saving output to a .NPZ file\n",
    "for stack_id in range(len(all_input_data_file_dff)):\n",
    "    np.savez (results_folder + 'clean_data/20220501/' +  \"cleaned_H2BGCaMP_\" + os.path.basename(all_input_data_file_dff[stack_id][:-4]) ,\n",
    "              dff = dta_fsh [stack_id].df,\n",
    "              coord = dta_fsh [stack_id].coor)\n",
    "    "
   ]
  },
  {
   "cell_type": "code",
   "execution_count": null,
   "metadata": {},
   "outputs": [],
   "source": [
    "##add z coordinates to ROIs in each zplane\n",
    "##convert units of coordinates from um to pixel\n",
    "##save the output dataset in csv file for ANTs to transform\n",
    "pix_size = 0.977\n",
    "num_zplanes = 28\n",
    "zstep = 12\n",
    "new_rate = 1\n",
    "\n",
    "coordz_for_ants=[];\n",
    "num_zplanes = len(dta_fsh)\n",
    "Zs = range(0,num_zplanes)\n",
    "for z in Zs:\n",
    "\n",
    "    A = dta_fsh [z].coor\n",
    "    C = dta_fsh [z].df\n",
    "    \n",
    "    for i,c in zip(A,C):\n",
    "        coordz_for_ants.append((i[0]*pix_size,i[1]*pix_size,((z*zstep))))\n",
    "np.savetxt(results_folder + \"Adjusted_output/20220501/\" +  \"Fish\"+FishID+'_for_ants_coor_transform' +'.csv', \n",
    "        coordz_for_ants, header ='x,y,z', delimiter=\",\", fmt='%.8f',comments='') "
   ]
  },
  {
   "cell_type": "markdown",
   "metadata": {},
   "source": [
    "## Add mask on each ROI"
   ]
  },
  {
   "cell_type": "code",
   "execution_count": 9,
   "metadata": {},
   "outputs": [],
   "source": [
    "msk_name = np.load (\"MaskDatabaseNames.npz\")['arr_0']\n",
    "dta_folder = results_folder+'Adjusted_output/20220501/'\n",
    "data_coor_ants = np.loadtxt (dta_folder + 'Fish'+FishID+'_for_ants_coor_registered.csv',skiprows=1, delimiter=',')\n",
    "df_adrss = results_folder+'clean_data/20220501/' \n",
    "final_results_folder  = results_folder+\"final_result/20220501\"\n"
   ]
  },
  {
   "cell_type": "code",
   "execution_count": 10,
   "metadata": {},
   "outputs": [
    {
     "data": {
      "text/plain": [
       "['cleaned_H2BGCaMP_Fish11_00.npz',\n",
       " 'cleaned_H2BGCaMP_Fish11_01.npz',\n",
       " 'cleaned_H2BGCaMP_Fish11_02.npz',\n",
       " 'cleaned_H2BGCaMP_Fish11_03.npz',\n",
       " 'cleaned_H2BGCaMP_Fish11_04.npz',\n",
       " 'cleaned_H2BGCaMP_Fish11_05.npz',\n",
       " 'cleaned_H2BGCaMP_Fish11_06.npz',\n",
       " 'cleaned_H2BGCaMP_Fish11_07.npz',\n",
       " 'cleaned_H2BGCaMP_Fish11_08.npz',\n",
       " 'cleaned_H2BGCaMP_Fish11_09.npz',\n",
       " 'cleaned_H2BGCaMP_Fish11_10.npz',\n",
       " 'cleaned_H2BGCaMP_Fish11_11.npz',\n",
       " 'cleaned_H2BGCaMP_Fish11_12.npz',\n",
       " 'cleaned_H2BGCaMP_Fish11_13.npz',\n",
       " 'cleaned_H2BGCaMP_Fish11_14.npz',\n",
       " 'cleaned_H2BGCaMP_Fish11_15.npz',\n",
       " 'cleaned_H2BGCaMP_Fish11_16.npz',\n",
       " 'cleaned_H2BGCaMP_Fish11_17.npz',\n",
       " 'cleaned_H2BGCaMP_Fish11_18.npz',\n",
       " 'cleaned_H2BGCaMP_Fish11_19.npz',\n",
       " 'cleaned_H2BGCaMP_Fish11_20.npz',\n",
       " 'cleaned_H2BGCaMP_Fish11_21.npz',\n",
       " 'cleaned_H2BGCaMP_Fish11_22.npz',\n",
       " 'cleaned_H2BGCaMP_Fish11_23.npz',\n",
       " 'cleaned_H2BGCaMP_Fish11_24.npz',\n",
       " 'cleaned_H2BGCaMP_Fish11_25.npz',\n",
       " 'cleaned_H2BGCaMP_Fish11_26.npz',\n",
       " 'cleaned_H2BGCaMP_Fish11_27.npz']"
      ]
     },
     "execution_count": 10,
     "metadata": {},
     "output_type": "execute_result"
    }
   ],
   "source": [
    "'''\n",
    "\n",
    "dff comes from caiman npz file\n",
    "\n",
    "\n",
    "'''\n",
    "\n",
    "dff_coor_dta = []\n",
    "for item in sorted(os.listdir(df_adrss)):\n",
    "    if not item.startswith('.') and os.path.isfile(os.path.join(df_adrss, item)):\n",
    "        dff_coor_dta.append(item)\n",
    "dff_coor_dta"
   ]
  },
  {
   "cell_type": "code",
   "execution_count": 11,
   "metadata": {},
   "outputs": [],
   "source": [
    "# dff and coord        \n",
    "all_dta_fsh = [np.load(df_adrss + str(dff_coor_dta[file_idx]), allow_pickle=True)\n",
    "               for file_idx in range (len(dff_coor_dta))]\n",
    "data_dff_tmp = []\n",
    "for fil_idx in range(len(all_dta_fsh)):\n",
    "    data_dff_tmp.append(all_dta_fsh[fil_idx]['dff']) "
   ]
  },
  {
   "cell_type": "code",
   "execution_count": 12,
   "metadata": {},
   "outputs": [
    {
     "name": "stdout",
     "output_type": "stream",
     "text": [
      "neuron number in coordinate file is equal to that in dff file: 198961\n"
     ]
    }
   ],
   "source": [
    "'''\n",
    "Merging all dff files as one variable\n",
    "'''\n",
    "data_dff = data_dff_tmp[0]\n",
    "for i in range(1, len(data_dff_tmp)):\n",
    "    data_dff =np.vstack ([data_dff , data_dff_tmp[i]]) \n",
    "\n",
    "#check if neuron number is the same in coordinate and dff file\n",
    "if np.shape(data_coor_ants)[0] == np.shape(data_dff)[0]:\n",
    "    print('neuron number in coordinate file is equal to that in dff file: %i'%np.shape(data_coor_ants)[0])"
   ]
  },
  {
   "cell_type": "code",
   "execution_count": 13,
   "metadata": {},
   "outputs": [],
   "source": [
    "# ---------------------------------------------------------#\n",
    "#         Assiging the anatomical label  - Registred data  #\n",
    "# ---------------------------------------------------------#\n",
    "# Convert \"Mu\" to \"PIXEL\"\n",
    "data_coor_ants [:, 0] = [int(data_coor_ants [i, 0]*1.2531) for i in range(len(data_coor_ants))] # \n",
    "data_coor_ants [:, 1] = [int(data_coor_ants [i, 1]*1.2531) for i in range(len(data_coor_ants))]\n",
    "data_coor_ants [:, 2] = [int(data_coor_ants [i, 2]*.5) for i in range(len(data_coor_ants))]"
   ]
  },
  {
   "cell_type": "code",
   "execution_count": 14,
   "metadata": {},
   "outputs": [
    {
     "name": "stdout",
     "output_type": "stream",
     "text": [
      "24734 neuron out of the margine were cropped\n"
     ]
    }
   ],
   "source": [
    "# CROPPING  -- exlude the extreme border hence keep 137 620 1405\n",
    "x_min = 0 # 191\n",
    "x_max = 1405 # 619\n",
    "y_min = 0 # 35\n",
    "y_max = 620 # 409\n",
    "z_min = 0 # 0\n",
    "z_max = 137 # 274\n",
    "roi2del = []\n",
    "for i in range(len(data_coor_ants)):\n",
    "    if data_coor_ants[i,0] < x_min or \\\n",
    "    data_coor_ants[i,0] > x_max or \\\n",
    "    data_coor_ants[i,1] < y_min or \\\n",
    "    data_coor_ants[i,1] > y_max or \\\n",
    "    data_coor_ants[i,2] < z_min or\\\n",
    "    data_coor_ants[i,2] > z_max:\n",
    "        roi2del.append(i)\n",
    "data_coor_ants_crop = np.delete (data_coor_ants ,roi2del , 0)\n",
    "data_dff_crop = np.delete (data_dff ,roi2del , 0)\n",
    "\n",
    "print(\"%i neuron out of the margine were cropped\"%len(roi2del))"
   ]
  },
  {
   "cell_type": "code",
   "execution_count": 26,
   "metadata": {},
   "outputs": [
    {
     "data": {
      "text/plain": [
       "array([[1269.,  429.,    0.],\n",
       "       [1272.,  432.,    0.],\n",
       "       [1286.,  426.,    0.],\n",
       "       ...,\n",
       "       [ 217.,  619.,  136.],\n",
       "       [ 308.,  618.,  137.],\n",
       "       [ 346.,  618.,  137.]])"
      ]
     },
     "execution_count": 26,
     "metadata": {},
     "output_type": "execute_result"
    }
   ],
   "source": [
    "data_coor_ants_crop[:]"
   ]
  },
  {
   "cell_type": "code",
   "execution_count": null,
   "metadata": {},
   "outputs": [],
   "source": [
    "## import data of anatomical_masking\n",
    "## assign mask index to each ROI\n",
    "mask = anatomical_masking ( data_coor_ants_crop[:] )\n",
    "\n",
    "anatomical_mask_MC = np.reshape (mask , [np.shape(mask)[0], np.shape(mask)[1]])"
   ]
  },
  {
   "cell_type": "code",
   "execution_count": null,
   "metadata": {},
   "outputs": [],
   "source": [
    "## assign mask name as the index of the dataset\n",
    "## in the resulted dataframe, each row is for one mask and each column is for one ROI. \n",
    "## cell values 1 means the ROI is assigned to the corresponding mask\n",
    "df_anatomical_mask = pd.DataFrame(anatomical_mask_MC)\n",
    "df_msk_name = pd.DataFrame(msk_name)\n",
    "df_msk_name[0] = df_msk_name[0].str.decode(\"utf-8\").apply(lambda x: x.split(\"'\")).str[1]\n",
    "df_anatomical_mask.index = df_msk_name[0]\n",
    "df_anatomical_mask.index.name=None\n",
    "df_anatomical_mask"
   ]
  },
  {
   "cell_type": "code",
   "execution_count": null,
   "metadata": {},
   "outputs": [],
   "source": [
    "##exclude ROIs that are inactive all the time in dff file and ROIs in eye region\n",
    "df_eye_neuron = df_anatomical_mask.loc['Ganglia - Eyes'].transpose()\n",
    "eye_index = df_eye_neuron[df_eye_neuron==1].dropna().index\n",
    "inactive_neuron = df_anatomical_mask.loc[:,df_anatomical_mask.sum()!=0].columns\n",
    "print(\"%i ROIs are excluded due to inactiveness\"%(np.shape(data_dff_crop)[0]-len(inactive_neuron)))\n",
    "print(\"%i ROIs in eye regions are excluded\"%(len(eye_index)))\n",
    "df_dff_active = pd.DataFrame(data_dff_crop).iloc[inactive_neuron]\n",
    "df_dff_active = df_dff_active.drop(eye_index)\n",
    "\n",
    "\n",
    "##exclude ROIs that are inactive all the time in mask file\n",
    "df_anatomical_mask_active = df_anatomical_mask.iloc[:, df_anatomical_mask.loc[:,df_anatomical_mask.sum()!=0].columns]\n",
    "df_anatomical_mask_active = df_anatomical_mask_active.drop(eye_index, axis=1)\n",
    "\n",
    "##exclude ROIs that are inactive all the time in coor file\n",
    "df_coor_ants_active = pd.DataFrame(data_coor_ants_crop).iloc[df_anatomical_mask.loc[:,df_anatomical_mask.sum()!=0].columns]\n",
    "df_coor_ants_active = df_coor_ants_active.drop(eye_index)\n",
    "\n"
   ]
  },
  {
   "cell_type": "code",
   "execution_count": null,
   "metadata": {},
   "outputs": [],
   "source": [
    "df = df_dff_active.loc[df_coor_ants_active.sort_values(by=2).index]\n",
    "def normalization(row):\n",
    "    mean = row.mean()\n",
    "    std = row.std()\n",
    "    norm1 = (row-mean)/std\n",
    "    norm2 = (norm1-norm1.min())/(norm1.max()-norm1.min())\n",
    "    return norm2\n",
    "df_normalized = df.apply(normalization,axis=1).dropna()"
   ]
  },
  {
   "cell_type": "code",
   "execution_count": null,
   "metadata": {},
   "outputs": [],
   "source": [
    "df_normalized"
   ]
  },
  {
   "cell_type": "code",
   "execution_count": null,
   "metadata": {},
   "outputs": [],
   "source": [
    "f, ax=plt.subplots(figsize=(100,50))\n",
    "cmap = sns.diverging_palette(230, 10, as_cmap=True)\n",
    "sns.heatmap(df_normalized.round(2), center=0,cmap=cmap,\\\n",
    "            square=False, linewidths=0, cbar_kws={\"shrink\": 0.9,'label':'activity'}, \\\n",
    "            annot=None,annot_kws={'fontsize':12}, ax=ax)\n",
    "ax.set_title('Fish'+FishID + ': '+ df_behavior.loc[('Fish'+FishID)]['Cat']+\\\n",
    "             ' LDCI = ' +str(df_behavior.loc[('Fish'+FishID)]['Mean_LDCI'].round(4)), \\\n",
    "             size=100)\n",
    "\n",
    "plt.savefig(result_dir+'Fish'+FishID+'.png')\n",
    "plt.show()"
   ]
  },
  {
   "cell_type": "code",
   "execution_count": null,
   "metadata": {},
   "outputs": [],
   "source": [
    "df_dff_active.to_csv(result_dir+'Fish'+FishID+'_dff.csv')\n",
    "df_anatomical_mask_active.to_csv(result_dir+'Fish'+FishID+'_final_mask.csv')\n",
    "df_coor_ants_active.to_csv(result_dir+'Fish'+FishID+'_coor.csv')\n"
   ]
  },
  {
   "cell_type": "code",
   "execution_count": null,
   "metadata": {
    "scrolled": true
   },
   "outputs": [],
   "source": [
    "f = plt.figure(figsize=(20,10))\n",
    "plt.scatter(df_coor_ants_active.iloc[:, 0], df_coor_ants_active.iloc[:, 1],\n",
    "            c = df_dff_active.mean(axis=1), cmap='Reds')\n",
    "plt.title('Fish'+FishID+' '+str(df_dff_active.shape[0])+' neuron ', size = 15)\n",
    "plt.show()"
   ]
  },
  {
   "cell_type": "code",
   "execution_count": null,
   "metadata": {},
   "outputs": [],
   "source": []
  }
 ],
 "metadata": {
  "kernelspec": {
   "display_name": "Python 3 (ipykernel)",
   "language": "python",
   "name": "python3"
  },
  "language_info": {
   "codemirror_mode": {
    "name": "ipython",
    "version": 3
   },
   "file_extension": ".py",
   "mimetype": "text/x-python",
   "name": "python",
   "nbconvert_exporter": "python",
   "pygments_lexer": "ipython3",
   "version": "3.7.11"
  }
 },
 "nbformat": 4,
 "nbformat_minor": 2
}
