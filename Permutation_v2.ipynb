{
 "cells": [
  {
   "cell_type": "code",
   "execution_count": 1,
   "metadata": {},
   "outputs": [],
   "source": [
    "import pandas as pd\n",
    "import matplotlib.pyplot as plt\n",
    "import numpy as np\n",
    "import sys\n",
    "import os\n",
    "import pingouin as pg\n",
    "import scipy.stats as stats\n",
    "import statsmodels.api as sm\n",
    "import statsmodels.formula.api as smf\n",
    "from sklearn.decomposition import PCA\n",
    "from sklearn.impute import SimpleImputer\n",
    "from sklearn.cluster import KMeans\n",
    "from matplotlib.lines import Line2D\n",
    "import matplotlib.lines as mlines\n",
    "import math\n",
    "import seaborn as sns"
   ]
  },
  {
   "cell_type": "markdown",
   "metadata": {},
   "source": [
    "## import raw data"
   ]
  },
  {
   "cell_type": "code",
   "execution_count": 2,
   "metadata": {},
   "outputs": [
    {
     "data": {
      "text/html": [
       "<div>\n",
       "<style scoped>\n",
       "    .dataframe tbody tr th:only-of-type {\n",
       "        vertical-align: middle;\n",
       "    }\n",
       "\n",
       "    .dataframe tbody tr th {\n",
       "        vertical-align: top;\n",
       "    }\n",
       "\n",
       "    .dataframe thead th {\n",
       "        text-align: right;\n",
       "    }\n",
       "</style>\n",
       "<table border=\"1\" class=\"dataframe\">\n",
       "  <thead>\n",
       "    <tr style=\"text-align: right;\">\n",
       "      <th></th>\n",
       "      <th>Triat1</th>\n",
       "      <th>Triat2</th>\n",
       "      <th>Triat3</th>\n",
       "    </tr>\n",
       "  </thead>\n",
       "  <tbody>\n",
       "    <tr>\n",
       "      <th>0</th>\n",
       "      <td>5.669249</td>\n",
       "      <td>5.448390</td>\n",
       "      <td>4.813708</td>\n",
       "    </tr>\n",
       "    <tr>\n",
       "      <th>1</th>\n",
       "      <td>6.135621</td>\n",
       "      <td>5.138966</td>\n",
       "      <td>5.152874</td>\n",
       "    </tr>\n",
       "    <tr>\n",
       "      <th>2</th>\n",
       "      <td>6.436614</td>\n",
       "      <td>6.656444</td>\n",
       "      <td>5.411082</td>\n",
       "    </tr>\n",
       "    <tr>\n",
       "      <th>3</th>\n",
       "      <td>5.981445</td>\n",
       "      <td>6.105550</td>\n",
       "      <td>5.694451</td>\n",
       "    </tr>\n",
       "    <tr>\n",
       "      <th>4</th>\n",
       "      <td>6.095233</td>\n",
       "      <td>6.353704</td>\n",
       "      <td>6.081812</td>\n",
       "    </tr>\n",
       "    <tr>\n",
       "      <th>...</th>\n",
       "      <td>...</td>\n",
       "      <td>...</td>\n",
       "      <td>...</td>\n",
       "    </tr>\n",
       "    <tr>\n",
       "      <th>395</th>\n",
       "      <td>5.074300</td>\n",
       "      <td>6.428716</td>\n",
       "      <td>6.100282</td>\n",
       "    </tr>\n",
       "    <tr>\n",
       "      <th>396</th>\n",
       "      <td>6.635624</td>\n",
       "      <td>6.123723</td>\n",
       "      <td>5.785397</td>\n",
       "    </tr>\n",
       "    <tr>\n",
       "      <th>397</th>\n",
       "      <td>5.681517</td>\n",
       "      <td>5.058413</td>\n",
       "      <td>5.680220</td>\n",
       "    </tr>\n",
       "    <tr>\n",
       "      <th>398</th>\n",
       "      <td>5.093717</td>\n",
       "      <td>5.265127</td>\n",
       "      <td>6.004845</td>\n",
       "    </tr>\n",
       "    <tr>\n",
       "      <th>399</th>\n",
       "      <td>5.526245</td>\n",
       "      <td>6.122371</td>\n",
       "      <td>5.101744</td>\n",
       "    </tr>\n",
       "  </tbody>\n",
       "</table>\n",
       "<p>400 rows × 3 columns</p>\n",
       "</div>"
      ],
      "text/plain": [
       "       Triat1    Triat2    Triat3\n",
       "0    5.669249  5.448390  4.813708\n",
       "1    6.135621  5.138966  5.152874\n",
       "2    6.436614  6.656444  5.411082\n",
       "3    5.981445  6.105550  5.694451\n",
       "4    6.095233  6.353704  6.081812\n",
       "..        ...       ...       ...\n",
       "395  5.074300  6.428716  6.100282\n",
       "396  6.635624  6.123723  5.785397\n",
       "397  5.681517  5.058413  5.680220\n",
       "398  5.093717  5.265127  6.004845\n",
       "399  5.526245  6.122371  5.101744\n",
       "\n",
       "[400 rows x 3 columns]"
      ]
     },
     "execution_count": 2,
     "metadata": {},
     "output_type": "execute_result"
    },
    {
     "name": "stderr",
     "output_type": "stream",
     "text": [
      "/Users/jialexu/opt/anaconda3/lib/python3.7/site-packages/outdated/utils.py:18: OutdatedPackageWarning: The package outdated is out of date. Your version is 0.2.1, the latest is 0.2.2.\n",
      "Set the environment variable OUTDATED_IGNORE=1 to disable these warnings.\n",
      "  **kwargs\n"
     ]
    }
   ],
   "source": [
    "df = pd.read_csv(\"/Users/jialexu/Desktop/Project2GWAS-BehvaioralGenetics/bin/permutation_result.txt\", \n",
    "                 sep='\\t', index_col=0).transpose()\n",
    "df"
   ]
  },
  {
   "cell_type": "markdown",
   "metadata": {},
   "source": [
    "## exclude extremely high and low values using 3 std"
   ]
  },
  {
   "cell_type": "code",
   "execution_count": 3,
   "metadata": {},
   "outputs": [
    {
     "data": {
      "text/plain": [
       "6.813132013613057"
      ]
     },
     "execution_count": 3,
     "metadata": {},
     "output_type": "execute_result"
    }
   ],
   "source": [
    "limit1 = df.stack().mean()+3*df.stack().std()\n",
    "limit2 = df.stack().mean()-3*df.stack().std()\n",
    "df_perm_value = df.stack()[(df.stack()>limit2)&(df.stack()<limit1)]\n",
    "df_perm_value.quantile(0.95)"
   ]
  },
  {
   "cell_type": "code",
   "execution_count": 4,
   "metadata": {
    "scrolled": true
   },
   "outputs": [
    {
     "data": {
      "text/plain": [
       "0    Triat1    5.669249\n",
       "     Triat2    5.448390\n",
       "     Triat3    4.813708\n",
       "1    Triat1    6.135621\n",
       "     Triat2    5.138966\n",
       "                 ...   \n",
       "398  Triat2    5.265127\n",
       "     Triat3    6.004845\n",
       "399  Triat1    5.526245\n",
       "     Triat2    6.122371\n",
       "     Triat3    5.101744\n",
       "Length: 1183, dtype: float64"
      ]
     },
     "execution_count": 4,
     "metadata": {},
     "output_type": "execute_result"
    }
   ],
   "source": [
    "df_perm_value"
   ]
  },
  {
   "cell_type": "code",
   "execution_count": 265,
   "metadata": {},
   "outputs": [
    {
     "data": {
      "image/png": "[encoded data removed]",
      "text/plain": [
       "<Figure size 792x360 with 1 Axes>"
      ]
     },
     "metadata": {
      "needs_background": "light"
     },
     "output_type": "display_data"
    }
   ],
   "source": [
    "f, ax = plt.subplots(figsize=(11,5))\n",
    "ax.hist(df_perm_value, rwidth=0.7, bins = 15, color='grey')\n",
    "ax.spines['right'].set_visible(False)\n",
    "ax.spines['top'].set_visible(False)\n",
    "ax.axvline(x=df_perm_value.quantile(0.95), color = 'r', ls=':', lw=3)\n",
    "ax.set_ylabel(\"Permutation No.\", fontname=\"Arial\", fontsize=20)\n",
    "ax.set_xlabel(\"largest $-log_{10}P$-value\", fontname=\"Arial\", fontsize=20)\n",
    "for tick in ax.get_xticklabels():\n",
    "    tick.set_fontname(\"Arial\")\n",
    "    tick.set_fontsize(15)\n",
    "for tick in ax.get_yticklabels():\n",
    "    tick.set_fontname(\"Arial\")\n",
    "    tick.set_fontsize(15)\n",
    "plt.show()"
   ]
  },
  {
   "cell_type": "code",
   "execution_count": null,
   "metadata": {},
   "outputs": [],
   "source": []
  }
 ],
 "metadata": {
  "kernelspec": {
   "display_name": "Python 3 (ipykernel)",
   "language": "python",
   "name": "python3"
  },
  "language_info": {
   "codemirror_mode": {
    "name": "ipython",
    "version": 3
   },
   "file_extension": ".py",
   "mimetype": "text/x-python",
   "name": "python",
   "nbconvert_exporter": "python",
   "pygments_lexer": "ipython3",
   "version": "3.7.11"
  }
 },
 "nbformat": 4,
 "nbformat_minor": 4
}
